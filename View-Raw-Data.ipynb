{
 "cells": [
  {
   "cell_type": "code",
   "execution_count": null,
   "id": "3a152b00",
   "metadata": {},
   "outputs": [],
   "source": [
    "import pandas as pd"
   ]
  },
  {
   "cell_type": "code",
   "execution_count": null,
   "id": "7da65434",
   "metadata": {},
   "outputs": [],
   "source": [
    "#pd.set_option('display.max_colwidth', None)\n",
    "#pd.set_option('display.max_rows', None)\n",
    "#pd.set_option('display.max_columns', None)"
   ]
  },
  {
   "cell_type": "code",
   "execution_count": null,
   "id": "a09d3be2",
   "metadata": {},
   "outputs": [],
   "source": [
    "df = pd.read_csv(\"NoMoreSilence_SampleData.csv\")"
   ]
  },
  {
   "cell_type": "code",
   "execution_count": null,
   "id": "3f3d9552",
   "metadata": {},
   "outputs": [],
   "source": [
    "len(df)"
   ]
  },
  {
   "cell_type": "code",
   "execution_count": null,
   "id": "ff549057",
   "metadata": {},
   "outputs": [],
   "source": [
    "df.head()"
   ]
  },
  {
   "cell_type": "code",
   "execution_count": null,
   "id": "f9037a86",
   "metadata": {},
   "outputs": [],
   "source": [
    "df.iloc[0]['Ocr text']"
   ]
  },
  {
   "cell_type": "code",
   "execution_count": null,
   "id": "bebdee0c",
   "metadata": {},
   "outputs": [],
   "source": [
    "#!pip install pandasql"
   ]
  },
  {
   "cell_type": "code",
   "execution_count": null,
   "id": "03b4aea7",
   "metadata": {},
   "outputs": [],
   "source": [
    "from pandasql import sqldf\n",
    "pysqldf = lambda q: sqldf(q, globals())"
   ]
  },
  {
   "cell_type": "code",
   "execution_count": null,
   "id": "15a61b54",
   "metadata": {},
   "outputs": [],
   "source": [
    "pysqldf(\"SELECT * FROM df WHERE `Ocr text` LIKE '%privately%'\")"
   ]
  },
  {
   "cell_type": "code",
   "execution_count": null,
   "id": "79a75adc",
   "metadata": {},
   "outputs": [],
   "source": [
    "df_privately = pysqldf(\"SELECT * FROM df WHERE `Ocr text` LIKE '%privately%'\")"
   ]
  },
  {
   "cell_type": "code",
   "execution_count": null,
   "id": "69f0e5fa",
   "metadata": {},
   "outputs": [],
   "source": [
    "df_privately[['Title', 'Ocr text']]"
   ]
  },
  {
   "cell_type": "code",
   "execution_count": null,
   "id": "2e55da3d",
   "metadata": {},
   "outputs": [],
   "source": []
  }
 ],
 "metadata": {
  "kernelspec": {
   "display_name": "Python 3 (ipykernel)",
   "language": "python",
   "name": "python3"
  },
  "language_info": {
   "codemirror_mode": {
    "name": "ipython",
    "version": 3
   },
   "file_extension": ".py",
   "mimetype": "text/x-python",
   "name": "python",
   "nbconvert_exporter": "python",
   "pygments_lexer": "ipython3",
   "version": "3.10.9"
  }
 },
 "nbformat": 4,
 "nbformat_minor": 5
}
