{
 "cells": [
  {
   "cell_type": "code",
   "execution_count": null,
   "id": "83ed84ba",
   "metadata": {},
   "outputs": [],
   "source": [
    "#!pip install pyLDAvis"
   ]
  },
  {
   "cell_type": "code",
   "execution_count": null,
   "id": "50f143f3",
   "metadata": {},
   "outputs": [],
   "source": [
    "import gensim\n",
    "import gensim.corpora as corpora\n",
    "import pyLDAvis\n",
    "import pyLDAvis.gensim\n",
    "import matplotlib.pyplot as plt\n",
    "import pandas as pd\n",
    "import nltk"
   ]
  },
  {
   "cell_type": "code",
   "execution_count": null,
   "id": "e539e072",
   "metadata": {},
   "outputs": [],
   "source": [
    "nltk.download('punkt')"
   ]
  },
  {
   "cell_type": "code",
   "execution_count": null,
   "id": "60202f3a",
   "metadata": {},
   "outputs": [],
   "source": [
    "df = pd.read_csv('cleaned_text.csv')"
   ]
  },
  {
   "cell_type": "code",
   "execution_count": null,
   "id": "12c67229",
   "metadata": {},
   "outputs": [],
   "source": [
    "df"
   ]
  },
  {
   "cell_type": "code",
   "execution_count": null,
   "id": "c4a7534f",
   "metadata": {},
   "outputs": [],
   "source": [
    "df['tokenized'] = df.apply(lambda row: nltk.word_tokenize(row['nostop_text']), axis=1)"
   ]
  },
  {
   "cell_type": "code",
   "execution_count": null,
   "id": "d8cfdba5",
   "metadata": {},
   "outputs": [],
   "source": [
    "df['tokenized']"
   ]
  },
  {
   "cell_type": "code",
   "execution_count": null,
   "id": "32a12eaa",
   "metadata": {},
   "outputs": [],
   "source": [
    "bow_text_lists = []\n",
    "text_len = []\n",
    "\n",
    "for i,r in df.iterrows():\n",
    "    words = r.tokenized\n",
    "    bow_text_lists.append(words)\n",
    "    bow_text = []\n",
    "    for word in words:\n",
    "        bow_text.append(word)\n",
    "    text_len.append(len(bow_text))"
   ]
  },
  {
   "cell_type": "code",
   "execution_count": null,
   "id": "34cc1996",
   "metadata": {},
   "outputs": [],
   "source": [
    "dictionary = corpora.Dictionary(bow_text_lists)\n",
    "corpus = [dictionary.doc2bow(text) for text in bow_text_lists]"
   ]
  },
  {
   "cell_type": "code",
   "execution_count": null,
   "id": "3f11d4ca",
   "metadata": {},
   "outputs": [],
   "source": [
    "n = 0\n",
    "\n",
    "for k,v in dictionary.items():\n",
    "    if n <= 15:\n",
    "        print(f\"{k} : {v}\")\n",
    "        n += 1"
   ]
  },
  {
   "cell_type": "code",
   "execution_count": null,
   "id": "d494811b",
   "metadata": {},
   "outputs": [],
   "source": [
    "# with the terms included\n",
    "for c in corpus[10][20:30]:\n",
    "    print(dictionary[c[0]], c[1])"
   ]
  },
  {
   "cell_type": "code",
   "execution_count": null,
   "id": "9b2e9dc5",
   "metadata": {},
   "outputs": [],
   "source": [
    "import warnings\n",
    "warnings.filterwarnings(\"ignore\", category=DeprecationWarning)\n",
    "\n",
    "number_of_topics = 2\n",
    "ldamodel = gensim.models.ldamodel.LdaModel(corpus, num_topics = number_of_topics, id2word=dictionary, passes=50)"
   ]
  },
  {
   "cell_type": "code",
   "execution_count": null,
   "id": "cc48f27a",
   "metadata": {},
   "outputs": [],
   "source": [
    "topics = ldamodel.show_topics(num_words=20, formatted=False)\n",
    "for topic in topics:\n",
    "    print(\"topic:\", topic[0])\n",
    "    for term in topic[1]:\n",
    "        print(term)\n",
    "    print()"
   ]
  },
  {
   "cell_type": "code",
   "execution_count": null,
   "id": "787d7199",
   "metadata": {},
   "outputs": [],
   "source": [
    "ldamodel.get_term_topics('sex', minimum_probability=0)"
   ]
  },
  {
   "cell_type": "code",
   "execution_count": null,
   "id": "2b1cdadb",
   "metadata": {},
   "outputs": [],
   "source": [
    "warnings.filterwarnings(\"ignore\", category=DeprecationWarning)\n",
    "\n",
    "# load the dictionary, corpus, and LDA model we created earlier:\n",
    "#dictionary = gensim.corpora.Dictionary.load('dictionary.gensim')\n",
    "#corpus = pickle.load(open('corpus.pkl', 'rb'))\n",
    "\n",
    "# If you generate a new model and change the number of topics, you may need to change the file name for the model (here, model5.gensim)\n",
    "#lda = ldamodel#gensim.models.ldamodel.LdaModel.load('model10.gensim')\n",
    "\n",
    "# import pyLDAvis and ready it for use in a notebook:\n",
    "import pyLDAvis\n",
    "import pyLDAvis.gensim_models as gensimvis\n",
    "pyLDAvis.enable_notebook()\n",
    "\n",
    "# feed pyLDAvis the pieces generated from Gensim and create the visualization:\n",
    "lda_display = gensimvis.prepare(ldamodel, corpus, dictionary, sort_topics=False)\n",
    "pyLDAvis.display(lda_display)"
   ]
  },
  {
   "cell_type": "code",
   "execution_count": null,
   "id": "b57bd853",
   "metadata": {},
   "outputs": [],
   "source": []
  }
 ],
 "metadata": {
  "kernelspec": {
   "display_name": "Python 3 (ipykernel)",
   "language": "python",
   "name": "python3"
  },
  "language_info": {
   "codemirror_mode": {
    "name": "ipython",
    "version": 3
   },
   "file_extension": ".py",
   "mimetype": "text/x-python",
   "name": "python",
   "nbconvert_exporter": "python",
   "pygments_lexer": "ipython3",
   "version": "3.10.9"
  }
 },
 "nbformat": 4,
 "nbformat_minor": 5
}
